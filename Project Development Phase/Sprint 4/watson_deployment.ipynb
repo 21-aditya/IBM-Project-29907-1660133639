{
 "cells": [
  {
   "cell_type": "code",
   "execution_count": null,
   "metadata": {},
   "outputs": [],
   "source": [
    "!pip install ibm_watson_machine_learning"
   ]
  },
  {
   "cell_type": "code",
   "execution_count": null,
   "metadata": {},
   "outputs": [],
   "source": [
    "!tar -zcvf '/content/drive/MyDrive/Colab Notebooks/dn.tgz' '/content/drive/MyDrive/Colab Notebooks/model_wo_aug.h5'"
   ]
  },
  {
   "cell_type": "code",
   "execution_count": null,
   "metadata": {},
   "outputs": [],
   "source": [
    "from ibm_watson_machine_learning import APIClient\n",
    "WMLCredentials = {\n",
    "\n",
    "            \"url\":\"https://eu-de.ml.cloud.ibm.com\",\n",
    "\n",
    "            \"apikey\":\"otPqZJ572G9Kvgqd5eTuHSeZ-ktrTokqdXvWd8kaFXLv\"\n",
    "\n",
    "}\n",
    "client = APIClient(WMLCredentials)\n",
    "client.set.default_space(\"12f0d23b-8918-45db-a632-01c21bee5035\")\n",
    "software_spec_uid = client.software_specifications.get_uid_by_name(\"tensorflow_rt22.1-py3.9\")\n",
    "software_spec_uid"
   ]
  },
  {
   "cell_type": "code",
   "execution_count": null,
   "metadata": {},
   "outputs": [],
   "source": [
    "model_details = client.repository.store_model(model=\"dn.tgz\", meta_props={\n",
    "client.repository.ModelMetaNames.NAME:\"CNN\",\n",
    "client.repository.ModelMetaNames.TYPE:\"tensorflow_2.7\",\n",
    "client.repository.ModelMetaNames.SOFTWARE_SPEC_UID:software_spec_uid\n",
    "})\n",
    "model_id = client.repository.get_model_id(model_details)"
   ]
  }
 ],
 "metadata": {
  "language_info": {
   "name": "python"
  },
  "orig_nbformat": 4
 },
 "nbformat": 4,
 "nbformat_minor": 2
}
